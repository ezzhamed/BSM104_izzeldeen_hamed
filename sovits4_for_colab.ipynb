{
  "cells": [
    {
      "cell_type": "markdown",
      "metadata": {
        "id": "2q0l56aFQhAM"
      },
      "source": [
        "# Terms of Use\n",
        "\n",
        "### Please solve the authorization problem of the dataset on your own. You shall be solely responsible for any problems caused by the use of non-authorized datasets for training and all consequences thereof.The repository and its maintainer, svc develop team, have nothing to do with the consequences!\n",
        "\n",
        "1. This project is established for academic exchange purposes only and is intended for communication and learning purposes. It is not intended for production environments.\n",
        "2. Any videos based on sovits that are published on video platforms must clearly indicate in the description that they are used for voice changing and specify the input source of the voice or audio, for example, using videos or audios published by others and separating the vocals as input source for conversion, which must provide clear original video or music links. If your own voice or other synthesized voices from other commercial vocal synthesis software are used as the input source for conversion, you must also explain it in the description.\n",
        "3. You shall be solely responsible for any infringement problems caused by the input source. When using other commercial vocal synthesis software as input source, please ensure that you comply with the terms of use of the software. Note that many vocal synthesis engines clearly state in their terms of use that they cannot be used for input source conversion.\n",
        "4. Continuing to use this project is deemed as agreeing to the relevant provisions stated in this repository README. This repository README has the obligation to persuade, and is not responsible for any subsequent problems that may arise.\n",
        "5. If you distribute this repository's code or publish any results produced by this project publicly (including but not limited to video sharing platforms), please indicate the original author and code source (this repository).\n",
        "6. If you use this project for any other plan, please contact and inform the author of this repository in advance. Thank you very much.\n"
      ]
    },
    {
      "cell_type": "markdown",
      "metadata": {
        "id": "M_RcDbVPhivj"
      },
      "source": [
        "## **Note:**\n",
        "## **Make sure there is no a directory named `sovits4data` in your google drive at the first time you use this notebook.**\n",
        "## **It will be created to store some necessary files.**\n",
        "## **For sure you can change it to another directory by modifying `sovits_data_dir` variable.**"
      ]
    },
    {
      "cell_type": "markdown",
      "metadata": {
        "id": "fHaw6hGEa_Nk"
      },
      "source": [
        "# **Initialize environment**"
      ]
    },
    {
      "cell_type": "code",
      "execution_count": 1,
      "metadata": {
        "id": "0gQcIZ8RsOkn",
        "colab": {
          "base_uri": "https://localhost:8080/"
        },
        "outputId": "3d30a1d6-db0c-477a-fe98-e6c902520721"
      },
      "outputs": [
        {
          "output_type": "stream",
          "name": "stdout",
          "text": [
            "Sun Aug  3 17:28:50 2025       \n",
            "+-----------------------------------------------------------------------------------------+\n",
            "| NVIDIA-SMI 550.54.15              Driver Version: 550.54.15      CUDA Version: 12.4     |\n",
            "|-----------------------------------------+------------------------+----------------------+\n",
            "| GPU  Name                 Persistence-M | Bus-Id          Disp.A | Volatile Uncorr. ECC |\n",
            "| Fan  Temp   Perf          Pwr:Usage/Cap |           Memory-Usage | GPU-Util  Compute M. |\n",
            "|                                         |                        |               MIG M. |\n",
            "|=========================================+========================+======================|\n",
            "|   0  NVIDIA A100-SXM4-40GB          Off |   00000000:00:04.0 Off |                    0 |\n",
            "| N/A   33C    P0             48W /  400W |       0MiB /  40960MiB |      0%      Default |\n",
            "|                                         |                        |             Disabled |\n",
            "+-----------------------------------------+------------------------+----------------------+\n",
            "                                                                                         \n",
            "+-----------------------------------------------------------------------------------------+\n",
            "| Processes:                                                                              |\n",
            "|  GPU   GI   CI        PID   Type   Process name                              GPU Memory |\n",
            "|        ID   ID                                                               Usage      |\n",
            "|=========================================================================================|\n",
            "|  No running processes found                                                             |\n",
            "+-----------------------------------------------------------------------------------------+\n"
          ]
        }
      ],
      "source": [
        "#@title Connect to colab runtime and check GPU\n",
        "\n",
        "#@markdown # Connect to colab runtime and check GPU\n",
        "\n",
        "#@markdown\n",
        "\n",
        "!nvidia-smi"
      ]
    },
    {
      "cell_type": "code",
      "execution_count": 2,
      "metadata": {
        "id": "0YUGpYrXhMck",
        "colab": {
          "base_uri": "https://localhost:8080/",
          "height": 1000
        },
        "outputId": "037e6dda-bad6-471e-a040-7dcd893d4bc6"
      },
      "outputs": [
        {
          "output_type": "stream",
          "name": "stdout",
          "text": [
            "Cloning into 'so-vits-svc'...\n",
            "remote: Enumerating objects: 3928, done.\u001b[K\n",
            "remote: Total 3928 (delta 0), reused 0 (delta 0), pack-reused 3928 (from 1)\u001b[K\n",
            "Receiving objects: 100% (3928/3928), 11.07 MiB | 3.01 MiB/s, done.\n",
            "Resolving deltas: 100% (2404/2404), done.\n",
            "/content/so-vits-svc\n",
            "Requirement already satisfied: pip in /usr/local/lib/python3.11/dist-packages (24.1.2)\n",
            "Collecting pip\n",
            "  Downloading pip-25.2-py3-none-any.whl.metadata (4.7 kB)\n",
            "Requirement already satisfied: setuptools in /usr/local/lib/python3.11/dist-packages (75.2.0)\n",
            "Collecting setuptools\n",
            "  Downloading setuptools-80.9.0-py3-none-any.whl.metadata (6.6 kB)\n",
            "Downloading pip-25.2-py3-none-any.whl (1.8 MB)\n",
            "\u001b[2K   \u001b[90m━━━━━━━━━━━━━━━━━━━━━━━━━━━━━━━━━━━━━━━━\u001b[0m \u001b[32m1.8/1.8 MB\u001b[0m \u001b[31m70.5 MB/s\u001b[0m eta \u001b[36m0:00:00\u001b[0m\n",
            "\u001b[?25hDownloading setuptools-80.9.0-py3-none-any.whl (1.2 MB)\n",
            "\u001b[2K   \u001b[90m━━━━━━━━━━━━━━━━━━━━━━━━━━━━━━━━━━━━━━━━\u001b[0m \u001b[32m1.2/1.2 MB\u001b[0m \u001b[31m75.4 MB/s\u001b[0m eta \u001b[36m0:00:00\u001b[0m\n",
            "\u001b[?25hInstalling collected packages: setuptools, pip\n",
            "  Attempting uninstall: setuptools\n",
            "    Found existing installation: setuptools 75.2.0\n",
            "    Uninstalling setuptools-75.2.0:\n",
            "      Successfully uninstalled setuptools-75.2.0\n",
            "  Attempting uninstall: pip\n",
            "    Found existing installation: pip 24.1.2\n",
            "    Uninstalling pip-24.1.2:\n",
            "      Successfully uninstalled pip-24.1.2\n",
            "\u001b[31mERROR: pip's dependency resolver does not currently take into account all the packages that are installed. This behaviour is the source of the following dependency conflicts.\n",
            "ipython 7.34.0 requires jedi>=0.16, which is not installed.\u001b[0m\u001b[31m\n",
            "\u001b[0mSuccessfully installed pip-25.2 setuptools-80.9.0\n"
          ]
        },
        {
          "output_type": "display_data",
          "data": {
            "application/vnd.colab-display-data+json": {
              "pip_warning": {
                "packages": [
                  "_distutils_hack"
                ]
              },
              "id": "5d58a4f219314c7e9380b07796e173d2"
            }
          },
          "metadata": {}
        },
        {
          "output_type": "stream",
          "name": "stdout",
          "text": [
            "Looking in indexes: https://pypi.org/simple, https://download.pytorch.org/whl/cu118\n",
            "Collecting ffmpeg-python (from -r requirements.txt (line 1))\n",
            "  Downloading ffmpeg_python-0.2.0-py3-none-any.whl.metadata (1.7 kB)\n",
            "Requirement already satisfied: Flask in /usr/local/lib/python3.11/dist-packages (from -r requirements.txt (line 2)) (3.1.1)\n",
            "Collecting Flask_Cors (from -r requirements.txt (line 3))\n",
            "  Downloading flask_cors-6.0.1-py3-none-any.whl.metadata (5.3 kB)\n",
            "Requirement already satisfied: gradio>=3.7.0 in /usr/local/lib/python3.11/dist-packages (from -r requirements.txt (line 4)) (5.38.2)\n",
            "Collecting numpy==1.23.5 (from -r requirements.txt (line 5))\n",
            "  Downloading numpy-1.23.5-cp311-cp311-manylinux_2_17_x86_64.manylinux2014_x86_64.whl.metadata (2.3 kB)\n",
            "Collecting pyworld (from -r requirements.txt (line 6))\n",
            "  Downloading pyworld-0.3.5.tar.gz (261 kB)\n",
            "  Installing build dependencies ... \u001b[?25l\u001b[?25hdone\n",
            "  Getting requirements to build wheel ... \u001b[?25l\u001b[?25hdone\n",
            "  Preparing metadata (pyproject.toml) ... \u001b[?25l\u001b[?25hdone\n",
            "Collecting scipy==1.10.0 (from -r requirements.txt (line 7))\n",
            "  Downloading scipy-1.10.0-cp311-cp311-manylinux_2_17_x86_64.manylinux2014_x86_64.whl.metadata (58 kB)\n",
            "Collecting SoundFile==0.12.1 (from -r requirements.txt (line 8))\n",
            "  Downloading soundfile-0.12.1-py2.py3-none-manylinux_2_31_x86_64.whl.metadata (14 kB)\n",
            "Requirement already satisfied: torch in /usr/local/lib/python3.11/dist-packages (from -r requirements.txt (line 9)) (2.6.0+cu124)\n",
            "Requirement already satisfied: torchaudio in /usr/local/lib/python3.11/dist-packages (from -r requirements.txt (line 10)) (2.6.0+cu124)\n",
            "Collecting torchcrepe (from -r requirements.txt (line 11))\n",
            "  Downloading torchcrepe-0.0.24-py3-none-any.whl.metadata (8.3 kB)\n",
            "Requirement already satisfied: tqdm in /usr/local/lib/python3.11/dist-packages (from -r requirements.txt (line 12)) (4.67.1)\n",
            "Requirement already satisfied: rich in /usr/local/lib/python3.11/dist-packages (from -r requirements.txt (line 13)) (13.9.4)\n",
            "Collecting loguru (from -r requirements.txt (line 14))\n",
            "  Downloading loguru-0.7.3-py3-none-any.whl.metadata (22 kB)\n",
            "Collecting scikit-maad (from -r requirements.txt (line 15))\n",
            "  Downloading scikit_maad-1.5.1-py3-none-any.whl.metadata (8.9 kB)\n",
            "Collecting praat-parselmouth (from -r requirements.txt (line 16))\n",
            "  Downloading praat_parselmouth-0.4.6-cp311-cp311-manylinux_2_17_x86_64.manylinux2014_x86_64.whl.metadata (2.9 kB)\n",
            "Collecting onnx (from -r requirements.txt (line 17))\n",
            "  Downloading onnx-1.18.0-cp311-cp311-manylinux_2_17_x86_64.manylinux2014_x86_64.whl.metadata (6.9 kB)\n",
            "Collecting onnxsim (from -r requirements.txt (line 18))\n",
            "  Downloading onnxsim-0.4.36-cp311-cp311-manylinux_2_17_x86_64.manylinux2014_x86_64.whl.metadata (4.3 kB)\n",
            "Collecting onnxoptimizer (from -r requirements.txt (line 19))\n",
            "  Downloading onnxoptimizer-0.3.13-cp311-cp311-manylinux_2_17_x86_64.manylinux2014_x86_64.whl.metadata (3.2 kB)\n",
            "Collecting fairseq==0.12.2 (from -r requirements.txt (line 20))\n",
            "  Downloading fairseq-0.12.2.tar.gz (9.6 MB)\n",
            "\u001b[2K     \u001b[90m━━━━━━━━━━━━━━━━━━━━━━━━━━━━━━━━━━━━━━━━\u001b[0m \u001b[32m9.6/9.6 MB\u001b[0m \u001b[31m105.2 MB/s\u001b[0m  \u001b[33m0:00:00\u001b[0m\n",
            "\u001b[?25h  Installing build dependencies ... \u001b[?25l\u001b[?25hdone\n",
            "  Getting requirements to build wheel ... \u001b[?25l\u001b[?25hdone\n",
            "  Installing backend dependencies ... \u001b[?25l\u001b[?25hdone\n",
            "  Preparing metadata (pyproject.toml) ... \u001b[?25l\u001b[?25hdone\n",
            "Collecting librosa==0.9.1 (from -r requirements.txt (line 21))\n",
            "  Downloading librosa-0.9.1-py3-none-any.whl.metadata (6.9 kB)\n",
            "Requirement already satisfied: tensorboard in /usr/local/lib/python3.11/dist-packages (from -r requirements.txt (line 22)) (2.18.0)\n",
            "Collecting tensorboardX (from -r requirements.txt (line 23))\n",
            "  Downloading tensorboardx-2.6.4-py3-none-any.whl.metadata (6.2 kB)\n",
            "Requirement already satisfied: transformers in /usr/local/lib/python3.11/dist-packages (from -r requirements.txt (line 24)) (4.54.0)\n",
            "Collecting edge_tts (from -r requirements.txt (line 25))\n",
            "  Downloading edge_tts-7.0.2-py3-none-any.whl.metadata (5.5 kB)\n",
            "Collecting langdetect (from -r requirements.txt (line 26))\n",
            "  Downloading langdetect-1.0.9.tar.gz (981 kB)\n",
            "\u001b[2K     \u001b[90m━━━━━━━━━━━━━━━━━━━━━━━━━━━━━━━━━━━━━━━━\u001b[0m \u001b[32m981.5/981.5 kB\u001b[0m \u001b[31m54.2 MB/s\u001b[0m  \u001b[33m0:00:00\u001b[0m\n",
            "\u001b[?25h  Preparing metadata (setup.py) ... \u001b[?25l\u001b[?25hdone\n",
            "Requirement already satisfied: pyyaml in /usr/local/lib/python3.11/dist-packages (from -r requirements.txt (line 27)) (6.0.2)\n",
            "Requirement already satisfied: pynvml in /usr/local/lib/python3.11/dist-packages (from -r requirements.txt (line 28)) (12.0.0)\n",
            "Collecting faiss-cpu (from -r requirements.txt (line 29))\n",
            "  Downloading faiss_cpu-1.11.0.post1-cp311-cp311-manylinux_2_27_x86_64.manylinux_2_28_x86_64.whl.metadata (5.0 kB)\n",
            "Requirement already satisfied: einops in /usr/local/lib/python3.11/dist-packages (from -r requirements.txt (line 30)) (0.8.1)\n",
            "Collecting local_attention (from -r requirements.txt (line 31))\n",
            "  Downloading local_attention-1.11.2-py3-none-any.whl.metadata (929 bytes)\n",
            "Requirement already satisfied: cffi>=1.0 in /usr/local/lib/python3.11/dist-packages (from SoundFile==0.12.1->-r requirements.txt (line 8)) (1.17.1)\n",
            "Requirement already satisfied: cython in /usr/local/lib/python3.11/dist-packages (from fairseq==0.12.2->-r requirements.txt (line 20)) (3.0.12)\n",
            "Collecting hydra-core<1.1,>=1.0.7 (from fairseq==0.12.2->-r requirements.txt (line 20))\n",
            "  Downloading hydra_core-1.0.7-py3-none-any.whl.metadata (3.7 kB)\n",
            "Collecting omegaconf<2.1 (from fairseq==0.12.2->-r requirements.txt (line 20))\n",
            "  Downloading omegaconf-2.0.6-py3-none-any.whl.metadata (3.0 kB)\n",
            "\u001b[33mWARNING: Ignoring version 2.0.6 of omegaconf since it has invalid metadata:\n",
            "Requested omegaconf<2.1 from https://files.pythonhosted.org/packages/d0/eb/9d63ce09dd8aa85767c65668d5414958ea29648a0eec80a4a7d311ec2684/omegaconf-2.0.6-py3-none-any.whl (from fairseq==0.12.2->-r requirements.txt (line 20)) has invalid metadata: .* suffix can only be used with `==` or `!=` operators\n",
            "    PyYAML (>=5.1.*)\n",
            "            ~~~~~~^\n",
            "Please use pip<24.1 if you need to use this version.\u001b[0m\u001b[33m\n",
            "\u001b[0m  Downloading omegaconf-2.0.5-py3-none-any.whl.metadata (3.0 kB)\n",
            "\u001b[33mWARNING: Ignoring version 2.0.5 of omegaconf since it has invalid metadata:\n",
            "Requested omegaconf<2.1 from https://files.pythonhosted.org/packages/e5/f6/043b6d255dd6fbf2025110cea35b87f4c5100a181681d8eab496269f0d5b/omegaconf-2.0.5-py3-none-any.whl (from fairseq==0.12.2->-r requirements.txt (line 20)) has invalid metadata: .* suffix can only be used with `==` or `!=` operators\n",
            "    PyYAML (>=5.1.*)\n",
            "            ~~~~~~^\n",
            "Please use pip<24.1 if you need to use this version.\u001b[0m\u001b[33m\n",
            "\u001b[0m  Downloading omegaconf-2.0.4-py3-none-any.whl.metadata (3.0 kB)\n",
            "\u001b[33mWARNING: Ignoring version 2.0.4 of omegaconf since it has invalid metadata:\n",
            "Requested omegaconf<2.1 from https://files.pythonhosted.org/packages/92/b1/4f3023143436f12c98bab53f0b3db617bd18a7d223627d5030e13a7b4fc2/omegaconf-2.0.4-py3-none-any.whl (from fairseq==0.12.2->-r requirements.txt (line 20)) has invalid metadata: .* suffix can only be used with `==` or `!=` operators\n",
            "    PyYAML (>=5.1.*)\n",
            "            ~~~~~~^\n",
            "Please use pip<24.1 if you need to use this version.\u001b[0m\u001b[33m\n",
            "\u001b[0m  Downloading omegaconf-2.0.3-py3-none-any.whl.metadata (3.0 kB)\n",
            "\u001b[33mWARNING: Ignoring version 2.0.3 of omegaconf since it has invalid metadata:\n",
            "Requested omegaconf<2.1 from https://files.pythonhosted.org/packages/29/08/a88210c2c1aa0a3f65f05d8a6c98939ccb84b6fb982aa6567dec4e6773f9/omegaconf-2.0.3-py3-none-any.whl (from fairseq==0.12.2->-r requirements.txt (line 20)) has invalid metadata: .* suffix can only be used with `==` or `!=` operators\n",
            "    PyYAML (>=5.1.*)\n",
            "            ~~~~~~^\n",
            "Please use pip<24.1 if you need to use this version.\u001b[0m\u001b[33m\n",
            "\u001b[0m  Downloading omegaconf-2.0.2-py3-none-any.whl.metadata (3.0 kB)\n",
            "\u001b[33mWARNING: Ignoring version 2.0.2 of omegaconf since it has invalid metadata:\n",
            "Requested omegaconf<2.1 from https://files.pythonhosted.org/packages/72/fe/f8d162aa059fb4f327fd75144dd69aa7e8acbb6d8d37013e4638c8490e0b/omegaconf-2.0.2-py3-none-any.whl (from fairseq==0.12.2->-r requirements.txt (line 20)) has invalid metadata: .* suffix can only be used with `==` or `!=` operators\n",
            "    PyYAML (>=5.1.*)\n",
            "            ~~~~~~^\n",
            "Please use pip<24.1 if you need to use this version.\u001b[0m\u001b[33m\n",
            "\u001b[0m  Downloading omegaconf-2.0.1-py3-none-any.whl.metadata (3.0 kB)\n",
            "\u001b[33mWARNING: Ignoring version 2.0.1 of omegaconf since it has invalid metadata:\n",
            "Requested omegaconf<2.1 from https://files.pythonhosted.org/packages/86/ec/605805e60abdb025b06664d107335031bb8ebdc52e0a90bdbad6a7130279/omegaconf-2.0.1-py3-none-any.whl (from fairseq==0.12.2->-r requirements.txt (line 20)) has invalid metadata: .* suffix can only be used with `==` or `!=` operators\n",
            "    PyYAML (>=5.1.*)\n",
            "            ~~~~~~^\n",
            "Please use pip<24.1 if you need to use this version.\u001b[0m\u001b[33m\n",
            "\u001b[0m  Downloading omegaconf-2.0.0-py3-none-any.whl.metadata (3.5 kB)\n",
            "Requirement already satisfied: regex in /usr/local/lib/python3.11/dist-packages (from fairseq==0.12.2->-r requirements.txt (line 20)) (2024.11.6)\n",
            "Collecting sacrebleu>=1.4.12 (from fairseq==0.12.2->-r requirements.txt (line 20))\n",
            "  Downloading sacrebleu-2.5.1-py3-none-any.whl.metadata (51 kB)\n",
            "Collecting bitarray (from fairseq==0.12.2->-r requirements.txt (line 20))\n",
            "  Downloading bitarray-3.6.0-cp311-cp311-manylinux_2_17_x86_64.manylinux2014_x86_64.whl.metadata (35 kB)\n",
            "Requirement already satisfied: audioread>=2.1.5 in /usr/local/lib/python3.11/dist-packages (from librosa==0.9.1->-r requirements.txt (line 21)) (3.0.1)\n",
            "Requirement already satisfied: scikit-learn>=0.19.1 in /usr/local/lib/python3.11/dist-packages (from librosa==0.9.1->-r requirements.txt (line 21)) (1.6.1)\n",
            "Requirement already satisfied: joblib>=0.14 in /usr/local/lib/python3.11/dist-packages (from librosa==0.9.1->-r requirements.txt (line 21)) (1.5.1)\n",
            "Requirement already satisfied: decorator>=4.0.10 in /usr/local/lib/python3.11/dist-packages (from librosa==0.9.1->-r requirements.txt (line 21)) (4.4.2)\n",
            "Collecting resampy>=0.2.2 (from librosa==0.9.1->-r requirements.txt (line 21))\n",
            "  Downloading resampy-0.4.3-py3-none-any.whl.metadata (3.0 kB)\n",
            "Requirement already satisfied: numba>=0.45.1 in /usr/local/lib/python3.11/dist-packages (from librosa==0.9.1->-r requirements.txt (line 21)) (0.60.0)\n",
            "Requirement already satisfied: pooch>=1.0 in /usr/local/lib/python3.11/dist-packages (from librosa==0.9.1->-r requirements.txt (line 21)) (1.8.2)\n",
            "Requirement already satisfied: packaging>=20.0 in /usr/local/lib/python3.11/dist-packages (from librosa==0.9.1->-r requirements.txt (line 21)) (25.0)\n",
            "Collecting omegaconf<2.1 (from fairseq==0.12.2->-r requirements.txt (line 20))\n",
            "  Using cached omegaconf-2.0.6-py3-none-any.whl.metadata (3.0 kB)\n",
            "\u001b[33mWARNING: Ignoring version 2.0.6 of omegaconf since it has invalid metadata:\n",
            "Requested omegaconf<2.1 from https://files.pythonhosted.org/packages/d0/eb/9d63ce09dd8aa85767c65668d5414958ea29648a0eec80a4a7d311ec2684/omegaconf-2.0.6-py3-none-any.whl (from fairseq==0.12.2->-r requirements.txt (line 20)) has invalid metadata: .* suffix can only be used with `==` or `!=` operators\n",
            "    PyYAML (>=5.1.*)\n",
            "            ~~~~~~^\n",
            "Please use pip<24.1 if you need to use this version.\u001b[0m\u001b[33m\n",
            "\u001b[0m  Using cached omegaconf-2.0.5-py3-none-any.whl.metadata (3.0 kB)\n",
            "\u001b[33mWARNING: Ignoring version 2.0.5 of omegaconf since it has invalid metadata:\n",
            "Requested omegaconf<2.1 from https://files.pythonhosted.org/packages/e5/f6/043b6d255dd6fbf2025110cea35b87f4c5100a181681d8eab496269f0d5b/omegaconf-2.0.5-py3-none-any.whl (from fairseq==0.12.2->-r requirements.txt (line 20)) has invalid metadata: .* suffix can only be used with `==` or `!=` operators\n",
            "    PyYAML (>=5.1.*)\n",
            "            ~~~~~~^\n",
            "Please use pip<24.1 if you need to use this version.\u001b[0m\u001b[33m\n",
            "\u001b[0mINFO: pip is looking at multiple versions of hydra-core to determine which version is compatible with other requirements. This could take a while.\n",
            "  Using cached omegaconf-2.0.6-py3-none-any.whl.metadata (3.0 kB)\n",
            "\u001b[33mWARNING: Ignoring version 2.0.6 of omegaconf since it has invalid metadata:\n",
            "Requested omegaconf<2.1 from https://files.pythonhosted.org/packages/d0/eb/9d63ce09dd8aa85767c65668d5414958ea29648a0eec80a4a7d311ec2684/omegaconf-2.0.6-py3-none-any.whl (from fairseq==0.12.2->-r requirements.txt (line 20)) has invalid metadata: .* suffix can only be used with `==` or `!=` operators\n",
            "    PyYAML (>=5.1.*)\n",
            "            ~~~~~~^\n",
            "Please use pip<24.1 if you need to use this version.\u001b[0m\u001b[33m\n",
            "\u001b[0m  Using cached omegaconf-2.0.5-py3-none-any.whl.metadata (3.0 kB)\n",
            "\u001b[33mWARNING: Ignoring version 2.0.5 of omegaconf since it has invalid metadata:\n",
            "Requested omegaconf<2.1 from https://files.pythonhosted.org/packages/e5/f6/043b6d255dd6fbf2025110cea35b87f4c5100a181681d8eab496269f0d5b/omegaconf-2.0.5-py3-none-any.whl (from fairseq==0.12.2->-r requirements.txt (line 20)) has invalid metadata: .* suffix can only be used with `==` or `!=` operators\n",
            "    PyYAML (>=5.1.*)\n",
            "            ~~~~~~^\n",
            "Please use pip<24.1 if you need to use this version.\u001b[0m\u001b[33m\n",
            "\u001b[0m\u001b[31mERROR: Cannot install -r requirements.txt (line 20) and fairseq because these package versions have conflicting dependencies.\u001b[0m\u001b[31m\n",
            "\u001b[0m\n",
            "The conflict is caused by:\n",
            "    fairseq 0.12.2 depends on omegaconf<2.1\n",
            "    hydra-core 1.0.7 depends on omegaconf<2.1 and >=2.0.5\n",
            "\n",
            "To fix this you could try to:\n",
            "1. loosen the range of package versions you've specified\n",
            "2. remove package versions to allow pip to attempt to solve the dependency conflict\n",
            "\n",
            "\u001b[31mERROR: ResolutionImpossible: for help visit https://pip.pypa.io/en/latest/topics/dependency-resolution/#dealing-with-dependency-conflicts\u001b[0m\u001b[31m\n",
            "\u001b[0m"
          ]
        }
      ],
      "source": [
        "#@title Clone repository and install requirements\n",
        "\n",
        "#@markdown # Clone repository and install requirements\n",
        "\n",
        "#@markdown\n",
        "\n",
        "#@markdown ### After the execution is completed, the runtime will **automatically restart**\n",
        "\n",
        "#@markdown\n",
        "\n",
        "!git clone https://github.com/svc-develop-team/so-vits-svc -b 4.1-Stable\n",
        "%cd /content/so-vits-svc\n",
        "%pip install --upgrade pip setuptools\n",
        "%pip install -r requirements.txt --extra-index-url https://download.pytorch.org/whl/cu118\n",
        "exit()"
      ]
    },
    {
      "cell_type": "code",
      "execution_count": 3,
      "metadata": {
        "id": "wmUkpUmfn_Hs",
        "colab": {
          "base_uri": "https://localhost:8080/"
        },
        "outputId": "e8770912-3adb-4fd6-e7ee-502ff1857186"
      },
      "outputs": [
        {
          "output_type": "stream",
          "name": "stdout",
          "text": [
            "Mounted at /content/drive\n"
          ]
        }
      ],
      "source": [
        "#@title Mount google drive and select which directories to sync with google drive\n",
        "\n",
        "#@markdown # Mount google drive and select which directories to sync with google drive\n",
        "\n",
        "#@markdown\n",
        "\n",
        "from google.colab import drive\n",
        "drive.mount(\"/content/drive\")\n",
        "\n",
        "#@markdown Directory to store **necessary files**, dont miss the slash at the end👇.\n",
        "sovits_data_dir = \"/content/drive/MyDrive/sovits4data/\"  #@param {type:\"string\"}\n",
        "#@markdown By default it will create a `sovits4data/` folder in your google drive.\n",
        "RAW_DIR = sovits_data_dir + \"raw/\"\n",
        "RESULTS_DIR = sovits_data_dir + \"results/\"\n",
        "FILELISTS_DIR = sovits_data_dir + \"filelists/\"\n",
        "CONFIGS_DIR = sovits_data_dir + \"configs/\"\n",
        "LOGS_DIR = sovits_data_dir + \"logs/44k/\"\n",
        "\n",
        "#@markdown\n",
        "\n",
        "#@markdown ### These folders will be synced with your google drvie\n",
        "\n",
        "#@markdown　### **Strongly recommend to check all.**\n",
        "\n",
        "#@markdown Sync **input audios** and **output audios**\n",
        "sync_raw_and_results = True  #@param {type:\"boolean\"}\n",
        "if sync_raw_and_results:\n",
        "  !mkdir -p {RAW_DIR}\n",
        "  !mkdir -p {RESULTS_DIR}\n",
        "  !rm -rf /content/so-vits-svc/raw\n",
        "  !rm -rf /content/so-vits-svc/results\n",
        "  !ln -s {RAW_DIR} /content/so-vits-svc/raw\n",
        "  !ln -s {RESULTS_DIR} /content/so-vits-svc/results\n",
        "\n",
        "#@markdown Sync **config** and **models**\n",
        "sync_configs_and_logs = True  #@param {type:\"boolean\"}\n",
        "if sync_configs_and_logs:\n",
        "  !mkdir -p {FILELISTS_DIR}\n",
        "  !mkdir -p {CONFIGS_DIR}\n",
        "  !mkdir -p {LOGS_DIR}\n",
        "  !rm -rf /content/so-vits-svc/filelists\n",
        "  !rm -rf /content/so-vits-svc/configs\n",
        "  !rm -rf /content/so-vits-svc/logs/44k\n",
        "  !ln -s {FILELISTS_DIR} /content/so-vits-svc/filelists\n",
        "  !ln -s {CONFIGS_DIR} /content/so-vits-svc/configs\n",
        "  !ln -s {LOGS_DIR} /content/so-vits-svc/logs/44k"
      ]
    },
    {
      "cell_type": "code",
      "execution_count": null,
      "metadata": {
        "id": "G_PMPCN6wvgZ"
      },
      "outputs": [],
      "source": [
        "#@title Get pretrained model(Optional but strongly recommend).\n",
        "\n",
        "#@markdown # Get pretrained model(Optional but strongly recommend).\n",
        "\n",
        "#@markdown\n",
        "\n",
        "#@markdown - Pre-trained model files: `G_0.pth` `D_0.pth`\n",
        "#@markdown   - Place them under /sovits4data/logs/44k/ in your google drive manualy\n",
        "\n",
        "#@markdown Get them from svc-develop-team(TBD) or anywhere else.\n",
        "\n",
        "#@markdown Although the pretrained model generally does not cause any copyright problems, please pay attention to it. For example, ask the author in advance, or the author has indicated the feasible use in the description clearly.\n",
        "\n",
        "download_pretrained_model = True #@param {type:\"boolean\"}\n",
        "D_0_URL = \"https://huggingface.co/datasets/ms903/sovits4.0-768vec-layer12/resolve/main/sovits_768l12_pre_large_320k/clean_D_320000.pth\" #@param [\"https://huggingface.co/datasets/ms903/sovits4.0-768vec-layer12/resolve/main/sovits_768l12_pre_large_320k/clean_D_320000.pth\", \"https://huggingface.co/1asbgdh/sovits4.0-volemb-vec768/resolve/main/clean_D_320000.pth\", \"https://huggingface.co/datasets/ms903/sovits4.0-768vec-layer12/resolve/main/vol_emb/clean_D_320000.pth\"] {allow-input: true}\n",
        "G_0_URL = \"https://huggingface.co/datasets/ms903/sovits4.0-768vec-layer12/resolve/main/sovits_768l12_pre_large_320k/clean_G_320000.pth\" #@param [\"https://huggingface.co/datasets/ms903/sovits4.0-768vec-layer12/resolve/main/sovits_768l12_pre_large_320k/clean_G_320000.pth\", \"https://huggingface.co/1asbgdh/sovits4.0-volemb-vec768/resolve/main/clean_G_320000.pth\", \"https://huggingface.co/datasets/ms903/sovits4.0-768vec-layer12/resolve/main/vol_emb/clean_G_320000.pth\"] {allow-input: true}\n",
        "\n",
        "download_pretrained_diffusion_model = True #@param {type:\"boolean\"}\n",
        "diff_model_URL = \"https://huggingface.co/datasets/ms903/Diff-SVC-refactor-pre-trained-model/resolve/main/fix_pitch_add_vctk_600k/model_0.pt\" #@param {type:\"string\"}\n",
        "\n",
        "%cd /content/so-vits-svc\n",
        "\n",
        "if download_pretrained_model:\n",
        "    !curl -L {D_0_URL} -o logs/44k/D_0.pth\n",
        "    !md5sum logs/44k/D_0.pth\n",
        "    !curl -L {G_0_URL} -o logs/44k/G_0.pth\n",
        "    !md5sum logs/44k/G_0.pth\n",
        "\n",
        "if download_pretrained_diffusion_model:\n",
        "    !mkdir -p logs/44k/diffusion\n",
        "    !curl -L {diff_model_URL} -o logs/44k/diffusion/model_0.pt\n",
        "    !md5sum logs/44k/diffusion/model_0.pt"
      ]
    },
    {
      "cell_type": "markdown",
      "metadata": {
        "id": "k1qadJBFehMo"
      },
      "source": [
        "# **Dataset preprocessing**"
      ]
    },
    {
      "cell_type": "markdown",
      "metadata": {
        "id": "kBlju6Q3lSM6"
      },
      "source": [
        "Pack and upload your raw dataset(dataset_raw/) to your google drive.\n",
        "\n",
        "Makesure the file structure in your zip file looks like this:\n",
        "\n",
        "```\n",
        "YourZIPforSingleSpeakers.zip\n",
        "└───speaker\n",
        "    ├───xxx1-xxx1.wav\n",
        "    ├───...\n",
        "    └───Lxx-0xx8.wav\n",
        "```\n",
        "\n",
        "```\n",
        "YourZIPforMultipleSpeakers.zip\n",
        "├───speaker0\n",
        "│   ├───xxx1-xxx1.wav\n",
        "│   ├───...\n",
        "│   └───Lxx-0xx8.wav\n",
        "└───speaker1\n",
        "    ├───xx2-0xxx2.wav\n",
        "    ├───...\n",
        "    └───xxx7-xxx007.wav\n",
        "```\n",
        "\n",
        "**Even if there is only one speaker, a folder named `{speaker_name}` is needed.**"
      ]
    },
    {
      "cell_type": "code",
      "execution_count": null,
      "metadata": {
        "id": "U05CXlAipvJR"
      },
      "outputs": [],
      "source": [
        "#@title Get raw dataset from google drive\n",
        "\n",
        "#@markdown # Get raw dataset from google drive\n",
        "\n",
        "#@markdown\n",
        "\n",
        "#@markdown Directory where **your zip file** located in, dont miss the slash at the end👇.\n",
        "sovits_data_dir = \"/content/drive/MyDrive/sovits4data/\"  #@param {type:\"string\"}\n",
        "#@markdown Filename of **your zip file**, do NOT be \"dataset.zip\"\n",
        "zip_filename = \"YourZIPFilenameofRawDataset.zip\"  #@param {type:\"string\"}\n",
        "ZIP_PATH = sovits_data_dir + zip_filename\n",
        "\n",
        "!unzip -od /content/so-vits-svc/dataset_raw {ZIP_PATH}"
      ]
    },
    {
      "cell_type": "code",
      "execution_count": null,
      "metadata": {
        "id": "_ThKTzYs5CfL"
      },
      "outputs": [],
      "source": [
        "#@title Resample to 44100Hz and mono\n",
        "\n",
        "#@markdown # Resample to 44100Hz and mono\n",
        "\n",
        "#@markdown\n",
        "\n",
        "%cd /content/so-vits-svc\n",
        "!python resample.py"
      ]
    },
    {
      "cell_type": "code",
      "execution_count": null,
      "metadata": {
        "id": "svITReeL5N8K"
      },
      "outputs": [],
      "source": [
        "#@title Divide filelists and generate config.json\n",
        "\n",
        "#@markdown # Divide filelists and generate config.json\n",
        "\n",
        "#@markdown\n",
        "\n",
        "%cd /content/so-vits-svc\n",
        "\n",
        "speech_encoder = \"vec768l12\" #@param [\"vec768l12\", \"vec256l9\", \"hubertsoft\", \"whisper-ppg\", \"whisper-ppg-large\"]\n",
        "use_vol_aug = False #@param {type:\"boolean\"}\n",
        "vol_aug = \"--vol_aug\" if use_vol_aug else \"\"\n",
        "\n",
        "from pretrain.meta import download_dict\n",
        "download_dict = download_dict()\n",
        "\n",
        "url = download_dict[speech_encoder][\"url\"]\n",
        "output = download_dict[speech_encoder][\"output\"]\n",
        "\n",
        "import os\n",
        "if not os.path.exists(output):\n",
        "  !curl -L {url} -o {output}\n",
        "  !md5sum {output}\n",
        "\n",
        "!python preprocess_flist_config.py --speech_encoder={speech_encoder} {vol_aug}"
      ]
    },
    {
      "cell_type": "code",
      "execution_count": null,
      "metadata": {
        "id": "xHUXMi836DMe"
      },
      "outputs": [],
      "source": [
        "#@title Generate hubert and f0\n",
        "\n",
        "#@markdown # Generate hubert and f0\n",
        "\n",
        "#@markdown\n",
        "%cd /content/so-vits-svc\n",
        "\n",
        "f0_predictor = \"crepe\" #@param [\"crepe\", \"pm\", \"dio\", \"harvest\", \"rmvpe\", \"fcpe\"]\n",
        "use_diff = True #@param {type:\"boolean\"}\n",
        "\n",
        "import os\n",
        "if f0_predictor == \"rmvpe\" and not os.path.exists(\"./pretrain/rmvpe.pt\"):\n",
        "  !curl -L https://huggingface.co/datasets/ylzz1997/rmvpe_pretrain_model/resolve/main/rmvpe.pt -o pretrain/rmvpe.pt\n",
        "\n",
        "if f0_predictor == \"fcpe\" and not os.path.exists(\"./pretrain/fcpe.pt\"):\n",
        "  !curl -L https://huggingface.co/datasets/ylzz1997/rmvpe_pretrain_model/resolve/main/fcpe.pt -o pretrain/fcpe.pt\n",
        "\n",
        "\n",
        "diff_param = \"\"\n",
        "if use_diff:\n",
        "  diff_param = \"--use_diff\"\n",
        "\n",
        "  if not os.path.exists(\"./pretrain/nsf_hifigan/model\"):\n",
        "    !curl -L https://github.com/openvpi/vocoders/releases/download/nsf-hifigan-v1/nsf_hifigan_20221211.zip -o nsf_hifigan_20221211.zip\n",
        "    !md5sum nsf_hifigan_20221211.zip\n",
        "    !unzip nsf_hifigan_20221211.zip\n",
        "    !rm -rf pretrain/nsf_hifigan\n",
        "    !mv -v nsf_hifigan pretrain\n",
        "\n",
        "!python preprocess_hubert_f0.py --f0_predictor={f0_predictor} {diff_param}"
      ]
    },
    {
      "cell_type": "code",
      "execution_count": null,
      "metadata": {
        "id": "Wo4OTmTAUXgj"
      },
      "outputs": [],
      "source": [
        "#@title Save the preprocessed dataset to google drive\n",
        "\n",
        "#@markdown # Save the preprocessed dataset to google drive\n",
        "\n",
        "#@markdown\n",
        "\n",
        "#@markdown You can save the dataset and related files to your google drive for the next training\n",
        "\n",
        "#@markdown **Directory for saving**, dont miss the slash at the end👇.\n",
        "sovits_data_dir = \"/content/drive/MyDrive/sovits4data/\" #@param {type:\"string\"}\n",
        "\n",
        "#@markdown There will be a `dataset.zip` contained `dataset/` in your google drive, which is preprocessed data.\n",
        "\n",
        "!mkdir -p {sovits_data_dir}\n",
        "!zip -r dataset.zip /content/so-vits-svc/dataset\n",
        "!cp -vr dataset.zip \"{sovits_data_dir}\""
      ]
    },
    {
      "cell_type": "code",
      "execution_count": null,
      "metadata": {
        "id": "P2G6v_6zblWK"
      },
      "outputs": [],
      "source": [
        "#@title Unzip preprocessed dataset from google drive directly if you have preprocessed already.\n",
        "\n",
        "#@markdown # Unzip preprocessed dataset from google drive directly if you have preprocessed already.\n",
        "\n",
        "#@markdown\n",
        "\n",
        "#@markdown Directory where **your preprocessed dataset** located in, dont miss the slash at the end👇.\n",
        "sovits_data_dir = \"/content/drive/MyDrive/sovits4data/\" #@param {type:\"string\"}\n",
        "CONFIG = sovits_data_dir + \"configs/\"\n",
        "FILELISTS = sovits_data_dir + \"filelists/\"\n",
        "DATASET = sovits_data_dir + \"dataset.zip\"\n",
        "\n",
        "!cp -vr {CONFIG} /content/so-vits-svc/\n",
        "!cp -vr {FILELISTS} /content/so-vits-svc/\n",
        "!unzip {DATASET} -d /"
      ]
    },
    {
      "cell_type": "markdown",
      "metadata": {
        "id": "ENoH-pShel7w"
      },
      "source": [
        "# **Trainning**"
      ]
    },
    {
      "cell_type": "code",
      "execution_count": null,
      "metadata": {
        "id": "-hEFFTCfZf57"
      },
      "outputs": [],
      "source": [
        "#@title Start training\n",
        "\n",
        "#@markdown # Start training\n",
        "\n",
        "#@markdown If you want to use pre-trained models, upload them to /sovits4data/logs/44k/ in your google drive manualy.\n",
        "\n",
        "#@markdown\n",
        "\n",
        "%cd /content/so-vits-svc\n",
        "\n",
        "#@markdown Whether to enable tensorboard\n",
        "tensorboard_on = True  #@param {type:\"boolean\"}\n",
        "\n",
        "if tensorboard_on:\n",
        "  %load_ext tensorboard\n",
        "  %tensorboard --logdir logs/44k\n",
        "\n",
        "config_path = \"configs/config.json\"\n",
        "\n",
        "from pretrain.meta import get_speech_encoder\n",
        "url, output = get_speech_encoder(config_path)\n",
        "\n",
        "import os\n",
        "if not os.path.exists(output):\n",
        "  !curl -L {url} -o {output}\n",
        "\n",
        "!python train.py -c {config_path} -m 44k"
      ]
    },
    {
      "cell_type": "code",
      "execution_count": null,
      "metadata": {
        "id": "ZThaMxmIJgWy"
      },
      "outputs": [],
      "source": [
        "#@title Train cluster model (Optional)\n",
        "\n",
        "#@markdown # Train cluster model (Optional)\n",
        "\n",
        "#@markdown #### Details see [README.md#cluster-based-timbre-leakage-control](https://github.com/svc-develop-team/so-vits-svc#cluster-based-timbre-leakage-control)\n",
        "\n",
        "#@markdown\n",
        "\n",
        "%cd /content/so-vits-svc\n",
        "!python cluster/train_cluster.py --gpu"
      ]
    },
    {
      "cell_type": "code",
      "execution_count": null,
      "metadata": {
        "id": "4rSpGlKu7WAJ"
      },
      "outputs": [],
      "source": [
        "#@title Train index model (Optional)\n",
        "\n",
        "#@markdown # Train index model (Optional)\n",
        "\n",
        "#@markdown #### Details see [README.md#feature-retrieval](https://github.com/svc-develop-team/so-vits-svc#feature-retrieval)\n",
        "\n",
        "#@markdown\n",
        "\n",
        "%cd /content/so-vits-svc\n",
        "!python train_index.py -c configs/config.json"
      ]
    },
    {
      "cell_type": "code",
      "execution_count": null,
      "metadata": {
        "id": "nNepGkoJ7WAK"
      },
      "outputs": [],
      "source": [
        "#@title Train diffusion model (Optional)\n",
        "\n",
        "#@markdown # Train diffusion model (Optional)\n",
        "\n",
        "#@markdown #### Details see [README.md#-about-shallow-diffusion](https://github.com/svc-develop-team/so-vits-svc#-about-shallow-diffusion)\n",
        "\n",
        "#@markdown\n",
        "\n",
        "%cd /content/so-vits-svc\n",
        "\n",
        "import os\n",
        "if not os.path.exists(\"./pretrain/nsf_hifigan/model\"):\n",
        "  !curl -L https://github.com/openvpi/vocoders/releases/download/nsf-hifigan-v1/nsf_hifigan_20221211.zip -o nsf_hifigan_20221211.zip\n",
        "  !unzip nsf_hifigan_20221211.zip\n",
        "  !rm -rf pretrain/nsf_hifigan\n",
        "  !mv -v nsf_hifigan pretrain\n",
        "\n",
        "#@markdown Whether to enable tensorboard\n",
        "tensorboard_on = True  #@param {type:\"boolean\"}\n",
        "\n",
        "if tensorboard_on:\n",
        "  %load_ext tensorboard\n",
        "  %tensorboard --logdir logs/44k\n",
        "\n",
        "!python train_diff.py -c configs/diffusion.yaml"
      ]
    },
    {
      "cell_type": "markdown",
      "metadata": {
        "id": "DVOf7rQ-7WAK"
      },
      "source": [
        "# keep colab alive\n",
        "Open the devtools and copy & paste to run the scrips.\n",
        "\n",
        "\n",
        "```JavaScript\n",
        "const ping = () => {\n",
        "  const btn = document.querySelector(\"colab-connect-button\");\n",
        "  const inner_btn = btn.shadowRoot.querySelector(\"#connect\");\n",
        "  if (inner_btn) {\n",
        "    inner_btn.click();\n",
        "    console.log(\"Clicked on connect button\");\n",
        "  } else {\n",
        "    console.log(\"connect button not found\");\n",
        "  }\n",
        "\n",
        "  const nextTime = 50000 + Math.random() * 10000;\n",
        "\n",
        "  setTimeout(ping, nextTime);\n",
        "};\n",
        "\n",
        "ping();\n",
        "```"
      ]
    },
    {
      "cell_type": "markdown",
      "metadata": {
        "id": "oCnbX-OT897k"
      },
      "source": [
        "# **Inference**\n",
        "### Upload wav files from this notebook\n",
        "### **OR**\n",
        "### Upload to `sovits4data/raw/` in your google drive manualy (should be faster)"
      ]
    },
    {
      "cell_type": "code",
      "execution_count": null,
      "metadata": {
        "id": "IAl3U5Bf7WAK"
      },
      "outputs": [],
      "source": [
        "#title Download nsf_hifigan if you need it\n",
        "\n",
        "%cd /content/so-vits-svc\n",
        "!curl -L https://github.com/openvpi/vocoders/releases/download/nsf-hifigan-v1/nsf_hifigan_20221211.zip -o /content/so-vits-svc/nsf_hifigan_20221211.zip\n",
        "!unzip nsf_hifigan_20221211.zip\n",
        "!rm -rf pretrain/nsf_hifigan\n",
        "!mv -v nsf_hifigan pretrain\n"
      ]
    },
    {
      "cell_type": "code",
      "execution_count": null,
      "metadata": {
        "id": "XUsmGkgCMD_Q"
      },
      "outputs": [],
      "source": [
        "#@title Upload wav files, the filename should not contain any special symbols like `#` `$` `(` `)`\n",
        "\n",
        "#@markdown # Upload wav files, the filename should not contain any special symbols like `#` `$` `(` `)`\n",
        "\n",
        "#@markdown\n",
        "\n",
        "%cd /content/so-vits-svc\n",
        "%run wav_upload.py --type audio"
      ]
    },
    {
      "cell_type": "code",
      "execution_count": null,
      "metadata": {
        "id": "dYnKuKTIj3z1"
      },
      "outputs": [],
      "source": [
        "#@title Start inference (and download)\n",
        "\n",
        "#@markdown # Start inference (and download)\n",
        "\n",
        "#@markdown Parameters see [README.MD#Inference](https://github.com/svc-develop-team/so-vits-svc#-inference)\n",
        "\n",
        "#@markdown\n",
        "\n",
        "wav_filename = \"YourWAVFile.wav\"  #@param {type:\"string\"}\n",
        "model_filename = \"G_210000.pth\"  #@param {type:\"string\"}\n",
        "model_path = \"/content/so-vits-svc/logs/44k/\" + model_filename\n",
        "speaker = \"YourSpeaker\"  #@param {type:\"string\"}\n",
        "trans = \"0\"  #@param {type:\"string\"}\n",
        "cluster_infer_ratio = \"0\"  #@param {type:\"string\"}\n",
        "auto_predict_f0 = False  #@param {type:\"boolean\"}\n",
        "apf = \"\"\n",
        "if auto_predict_f0:\n",
        "  apf = \" -a \"\n",
        "\n",
        "f0_predictor = \"crepe\" #@param [\"crepe\", \"pm\", \"dio\", \"harvest\", \"rmvpe\", \"fcpe\"]\n",
        "\n",
        "enhance = False  #@param {type:\"boolean\"}\n",
        "ehc = \"\"\n",
        "if enhance:\n",
        "  ehc = \" -eh \"\n",
        "#@markdown\n",
        "\n",
        "#@markdown Generally keep default:\n",
        "config_filename = \"config.json\"  #@param {type:\"string\"}\n",
        "config_path = \"/content/so-vits-svc/configs/\" + config_filename\n",
        "\n",
        "from pretrain.meta import get_speech_encoder\n",
        "url, output = get_speech_encoder(config_path)\n",
        "\n",
        "import os\n",
        "\n",
        "if f0_predictor == \"rmvpe\" and not os.path.exists(\"./pretrain/rmvpe.pt\"):\n",
        "  !curl -L https://huggingface.co/datasets/ylzz1997/rmvpe_pretrain_model/resolve/main/rmvpe.pt -o pretrain/rmvpe.pt\n",
        "\n",
        "if f0_predictor == \"fcpe\" and not os.path.exists(\"./pretrain/fcpe.pt\"):\n",
        "  !curl -L https://huggingface.co/datasets/ylzz1997/rmvpe_pretrain_model/resolve/main/fcpe.pt -o pretrain/fcpe.pt\n",
        "\n",
        "if not os.path.exists(output):\n",
        "  !curl -L {url} -o {output}\n",
        "\n",
        "kmeans_filenname = \"kmeans_10000.pt\"  #@param {type:\"string\"}\n",
        "kmeans_path = \"/content/so-vits-svc/logs/44k/\" + kmeans_filenname\n",
        "slice_db = \"-40\"  #@param {type:\"string\"}\n",
        "wav_format = \"flac\"  #@param {type:\"string\"}\n",
        "\n",
        "key = \"auto\" if auto_predict_f0 else f\"{trans}key\"\n",
        "cluster_name = \"\" if cluster_infer_ratio == \"0\" else f\"_{cluster_infer_ratio}\"\n",
        "isdiffusion = \"sovits\"\n",
        "wav_output = f\"/content/so-vits-svc/results/{wav_filename}_{key}_{speaker}{cluster_name}_{isdiffusion}_{f0_predictor}.{wav_format}\"\n",
        "\n",
        "%cd /content/so-vits-svc\n",
        "!python inference_main.py -n {wav_filename} -m {model_path} -s {speaker} -t {trans} -cr {cluster_infer_ratio} -c {config_path} -cm {kmeans_path} -sd {slice_db} -wf {wav_format} {apf} --f0_predictor={f0_predictor} {ehc}\n",
        "\n",
        "#@markdown\n",
        "\n",
        "#@markdown If you dont want to download from here, uncheck this.\n",
        "download_after_inference = True  #@param {type:\"boolean\"}\n",
        "\n",
        "if download_after_inference:\n",
        "  from google.colab import files\n",
        "  files.download(wav_output)"
      ]
    }
  ],
  "metadata": {
    "accelerator": "GPU",
    "colab": {
      "provenance": [],
      "machine_shape": "hm",
      "gpuType": "T4"
    },
    "kernelspec": {
      "display_name": "Python 3",
      "name": "python3"
    },
    "language_info": {
      "codemirror_mode": {
        "name": "ipython",
        "version": 3
      },
      "file_extension": ".py",
      "mimetype": "text/x-python",
      "name": "python",
      "nbconvert_exporter": "python",
      "pygments_lexer": "ipython3",
      "version": "3.8.16"
    }
  },
  "nbformat": 4,
  "nbformat_minor": 0
}